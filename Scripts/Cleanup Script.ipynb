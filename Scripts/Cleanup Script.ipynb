{
 "cells": [
  {
   "cell_type": "code",
   "execution_count": null,
   "id": "8e7bc1bc",
   "metadata": {},
   "outputs": [],
   "source": [
    "# import packages\n",
    "import pandas as pd\n",
    "import numpy as np\n",
    "import seaborn as sns\n",
    "\n",
    "import matplotlib.pyplot as plt\n",
    "import matplotlib.mlab as mlab\n",
    "import matplotlib\n",
    "plt.style.use('ggplot')\n",
    "from matplotlib.pyplot import figure\n"
   ]
  },
  {
   "cell_type": "code",
   "execution_count": null,
   "id": "f0cac4c1",
   "metadata": {},
   "outputs": [],
   "source": [
    "df1 = pd.read_csv(\"./recipes.csv\", header=0, sep=\",\")"
   ]
  },
  {
   "cell_type": "code",
   "execution_count": null,
   "id": "a4ff3742",
   "metadata": {},
   "outputs": [],
   "source": [
    "df1['RecipeIngredientQuantities'] = df1['RecipeIngredientQuantities'].str.replace(r'c\\(' , '')\n",
    "df1['RecipeIngredientQuantities'] = df1['RecipeIngredientQuantities'].str.replace(r'\\)' , '')\n",
    "#df1['RecipeIngredientQuantities'] = df1['RecipeIngredientQuantities'].str.replace(r',', '\\t')\n",
    "df1['RecipeIngredientQuantities'] = df1['RecipeIngredientQuantities'].str.replace(r'\\\"', '')"
   ]
  },
  {
   "cell_type": "code",
   "execution_count": null,
   "id": "540894b4",
   "metadata": {},
   "outputs": [],
   "source": [
    "df1['Keywords'] = df1['Keywords'].str.replace(r'c\\(' , '')\n",
    "df1['Keywords'] = df1['Keywords'].str.replace(r'\\)' , '')\n",
    "# df1['Keywords'] = df1['Keywords'].str.replace(r',', '\\t')\n",
    "df1['Keywords'] = df1['Keywords'].str.replace(r'\\\"', '')"
   ]
  },
  {
   "cell_type": "code",
   "execution_count": null,
   "id": "5b1dd9c0",
   "metadata": {},
   "outputs": [],
   "source": [
    "df1[\"Keywords\"].head()"
   ]
  },
  {
   "cell_type": "code",
   "execution_count": null,
   "id": "2f9d0353",
   "metadata": {},
   "outputs": [],
   "source": [
    "df1['RecipeIngredientParts'] = df1['RecipeIngredientParts'].str.replace(r'c\\(' , '')\n",
    "df1['RecipeIngredientParts'] = df1['RecipeIngredientParts'].str.replace(r'\\)' , '')\n",
    "# df1['RecipeIngredientParts'] = df1['RecipeIngredientParts'].str.replace(r',', '\\t')\n",
    "df1['RecipeIngredientParts'] = df1['RecipeIngredientParts'].str.replace(r'\\\"', '')"
   ]
  },
  {
   "cell_type": "code",
   "execution_count": null,
   "id": "e7504a61",
   "metadata": {},
   "outputs": [],
   "source": [
    "df1.head()"
   ]
  },
  {
   "cell_type": "code",
   "execution_count": null,
   "id": "e16520f4",
   "metadata": {},
   "outputs": [],
   "source": [
    "df1['Images'] = df1['Images'].replace(r'character(0)' , np.NaN)\n",
    "df1['Images'] = df1['Images'].str.replace(r'c\\(' , '')\n",
    "#df1['Images'] = df1['Images'].str.replace(r'\\\",', '\\t')   \n",
    "df1['Images'] = df1['Images'].str.replace(r'\\)' , '')\n",
    "df1['Images'] = df1['Images'].str.replace(r'\\\"', '')\n"
   ]
  },
  {
   "cell_type": "code",
   "execution_count": null,
   "id": "a10da0ca",
   "metadata": {},
   "outputs": [],
   "source": [
    "df1['Images']"
   ]
  },
  {
   "cell_type": "code",
   "execution_count": null,
   "id": "2406a719",
   "metadata": {},
   "outputs": [],
   "source": [
    "df1['RecipeInstructions'] = df1['RecipeInstructions'].str.replace(r'c\\(' , '')\n",
    "#df1['RecipeInstructions'] = df1['RecipeInstructions'].str.replace(r'\\\",', '\\t')   \n",
    "df1['RecipeInstructions'] = df1['RecipeInstructions'].str.replace(r'\\)' , '')\n",
    "df1['RecipeInstructions'] = df1['RecipeInstructions'].str.replace(r'\\\"', '')"
   ]
  },
  {
   "cell_type": "code",
   "execution_count": null,
   "id": "01d989b6",
   "metadata": {},
   "outputs": [],
   "source": [
    "df1['DatePublished'] = df1['DatePublished'].str.replace(r'T' , '')\n",
    "df1['DatePublished'] = df1['DatePublished'].str.replace(r'Z' , '')\n",
    "df1['DatePublished'] = pd.to_datetime(df1['DatePublished'], format='%Y-%m-%d%H:%M:%S')\n",
    "NOTES = df1['DatePublished']\n",
    "NOTES.to_csv('test.csv', index=False)"
   ]
  },
  {
   "cell_type": "code",
   "execution_count": null,
   "id": "92429453",
   "metadata": {},
   "outputs": [],
   "source": [
    "df1['Keywords'].head()"
   ]
  },
  {
   "cell_type": "code",
   "execution_count": null,
   "id": "49bcf267",
   "metadata": {},
   "outputs": [],
   "source": [
    "df1.info()"
   ]
  },
  {
   "cell_type": "code",
   "execution_count": null,
   "id": "84e03818",
   "metadata": {},
   "outputs": [],
   "source": [
    "recipe.head()"
   ]
  },
  {
   "cell_type": "code",
   "execution_count": null,
   "id": "38139c45",
   "metadata": {},
   "outputs": [],
   "source": [
    "# Select Ingredient Data\n",
    "recipe = df1.loc[: , ['RecipeId', 'Name' , 'AuthorId' , 'DatePublished' , 'Description' , 'Images', 'RecipeCategory' , 'Keywords' , 'AggregatedRating' , 'ReviewCount' , 'RecipeServings' , 'RecipeYield' , 'RecipeInstructions']]\n",
    "recipe[['AggregatedRating' , 'ReviewCount' , 'RecipeServings']] = recipe[['AggregatedRating' , 'ReviewCount' , 'RecipeServings']].apply(pd.to_numeric, errors=\"coerce\")\n",
    "recipe = recipe.dropna(subset=['AggregatedRating' , 'ReviewCount' , 'RecipeServings'])\n",
    "# recipe = pd.to_numeric(recipe['ReviewCount']  , errors=\"coerce\")\n",
    "# = pd.to_numeric(recipe['RecipeServings']  , errors=\"coerce\")\n",
    "recipe.info()"
   ]
  },
  {
   "cell_type": "code",
   "execution_count": null,
   "id": "84acaebb",
   "metadata": {},
   "outputs": [],
   "source": [
    "recipe.to_csv('recipe_cleaned.csv', index=False)"
   ]
  },
  {
   "cell_type": "code",
   "execution_count": null,
   "id": "c95cac5d",
   "metadata": {},
   "outputs": [],
   "source": [
    "recipe.info()"
   ]
  },
  {
   "cell_type": "code",
   "execution_count": null,
   "id": "748f564d",
   "metadata": {},
   "outputs": [],
   "source": [
    "df1[['AggregatedRating' , 'ReviewCount' , 'RecipeServings']] = df1[['AggregatedRating' , 'ReviewCount' , 'RecipeServings']].apply(pd.to_numeric, errors=\"coerce\")\n",
    "df1 = df1.dropna(subset=['AggregatedRating' , 'ReviewCount' , 'RecipeServings'])\n",
    "ingredients  = df1.loc[: , ['RecipeId', 'RecipeIngredientParts' , 'RecipeIngredientQuantities']]\n",
    "ingredients.index = np.arange(1,len(ingredients)+1)\n",
    "ingredients.to_csv('ingredients.csv')\n",
    "ingredients.head()"
   ]
  },
  {
   "cell_type": "code",
   "execution_count": null,
   "id": "dc9cd3ad",
   "metadata": {},
   "outputs": [],
   "source": [
    "recipe.info()"
   ]
  },
  {
   "cell_type": "code",
   "execution_count": null,
   "id": "38c8b4ed",
   "metadata": {},
   "outputs": [],
   "source": [
    "authors = df1.loc[: , ['AuthorId', 'AuthorName']]"
   ]
  },
  {
   "cell_type": "code",
   "execution_count": null,
   "id": "0f6ef2d9",
   "metadata": {},
   "outputs": [],
   "source": [
    "authors = authors.drop_duplicates(subset=['AuthorId'])"
   ]
  },
  {
   "cell_type": "code",
   "execution_count": null,
   "id": "220481f0",
   "metadata": {},
   "outputs": [],
   "source": [
    "authors.index = np.arange(1,len(authors)+1)\n",
    "authors.to_csv('authors1.csv' , index=False)\n",
    "authors.head()"
   ]
  },
  {
   "cell_type": "code",
   "execution_count": null,
   "id": "f55c1122",
   "metadata": {},
   "outputs": [],
   "source": []
  },
  {
   "cell_type": "code",
   "execution_count": null,
   "id": "e1bbccfc",
   "metadata": {},
   "outputs": [],
   "source": [
    "duration = df1.loc[: , ['RecipeId', 'PrepTime','CookTime','TotalTime']]\n",
    "duration = duration.drop_duplicates(subset=['RecipeId'])\n",
    "# duration = pd.to_numeric(duration['RecipeId']  , errors=\"coerce\")\n"
   ]
  },
  {
   "cell_type": "code",
   "execution_count": null,
   "id": "c26c313f",
   "metadata": {},
   "outputs": [],
   "source": [
    "duration.index = np.arange(1,len(duration)+1)\n",
    "duration.to_csv('duration.csv')\n",
    "duration.head()"
   ]
  },
  {
   "cell_type": "code",
   "execution_count": null,
   "id": "46c6a98f",
   "metadata": {},
   "outputs": [],
   "source": [
    "nutrition = df1.loc[: , ['RecipeId', 'Calories','FatContent','SaturatedFatContent','CholesterolContent','SodiumContent','CarbohydrateContent','FiberContent','SugarContent','ProteinContent']]\n",
    "nutrition[['Calories' , 'FatContent' , 'SaturatedFatContent' , 'CholesterolContent','SodiumContent','CarbohydrateContent','FiberContent','SugarContent','ProteinContent']] = nutrition[['Calories' , 'FatContent' , 'SaturatedFatContent' , 'CholesterolContent','SodiumContent','CarbohydrateContent','FiberContent','SugarContent','ProteinContent']].apply(pd.to_numeric, errors=\"coerce\")\n",
    "nutrition = nutrition.dropna(subset=['Calories' , 'FatContent' , 'SaturatedFatContent' , 'CholesterolContent','SodiumContent','CarbohydrateContent','FiberContent','SugarContent','ProteinContent'])\n",
    "nutrition = nutrition.drop_duplicates(subset=['RecipeId'])\n"
   ]
  },
  {
   "cell_type": "code",
   "execution_count": null,
   "id": "38353f59",
   "metadata": {},
   "outputs": [],
   "source": [
    "nutrition.index = np.arange(1,len(duration)+1)\n",
    "nutrition.to_csv('nutrition.csv')\n",
    "nutrition.head()"
   ]
  },
  {
   "cell_type": "code",
   "execution_count": null,
   "id": "c9385250",
   "metadata": {},
   "outputs": [],
   "source": [
    "df2 = pd.read_csv(\"./reviews.csv\", header=0)"
   ]
  },
  {
   "cell_type": "code",
   "execution_count": null,
   "id": "085b027c",
   "metadata": {},
   "outputs": [],
   "source": [
    "df2.info()"
   ]
  },
  {
   "cell_type": "code",
   "execution_count": null,
   "id": "206ede89",
   "metadata": {},
   "outputs": [],
   "source": [
    "df2.head()"
   ]
  },
  {
   "cell_type": "code",
   "execution_count": null,
   "id": "35a3a1c0",
   "metadata": {},
   "outputs": [],
   "source": [
    "df2['DateSubmitted'] = df2['DateSubmitted'].str.replace(r'T' , '')\n",
    "df2['DateSubmitted'] = df2['DateSubmitted'].str.replace(r'Z' , '')\n",
    "df2['DateSubmitted'] = pd.to_datetime(df2['DateSubmitted'], format='%Y-%m-%d%H:%M:%S')\n",
    "df2['DateModified'] = df2['DateModified'].str.replace(r'T' , '')\n",
    "df2['DateModified'] = df2['DateModified'].str.replace(r'Z' , '')\n",
    "df2['DateModified'] = pd.to_datetime(df2['DateModified'], format='%Y-%m-%d%H:%M:%S')"
   ]
  },
  {
   "cell_type": "code",
   "execution_count": null,
   "id": "7b4547ed",
   "metadata": {},
   "outputs": [],
   "source": [
    "df2.columns\n",
    "# df2['Rating'] = df2['Rating'].apply(pd.to_numeric, errors=\"coerce\")\n",
    "df2['Rating'] = df2['Rating'].apply(pd.to_numeric, errors='coerce')\n",
    "df2 = df2.dropna(subset=['Rating'])\n",
    "review = df2.loc[: , ['ReviewId', 'RecipeId','AuthorId','Rating','Review','DateSubmitted','DateModified']]\n",
    "review.describe()\n"
   ]
  },
  {
   "cell_type": "code",
   "execution_count": null,
   "id": "81a85a99",
   "metadata": {},
   "outputs": [],
   "source": [
    "review.to_csv('review_cleaned.csv' , index=False)"
   ]
  }
 ],
 "metadata": {
  "interpreter": {
   "hash": "b3ba2566441a7c06988d0923437866b63cedc61552a5af99d1f4fb67d367b25f"
  },
  "kernelspec": {
   "display_name": "Python 3.8.8 64-bit ('base': conda)",
   "name": "python3"
  },
  "language_info": {
   "codemirror_mode": {
    "name": "ipython",
    "version": 3
   },
   "file_extension": ".py",
   "mimetype": "text/x-python",
   "name": "python",
   "nbconvert_exporter": "python",
   "pygments_lexer": "ipython3",
   "version": "3.8.8"
  }
 },
 "nbformat": 4,
 "nbformat_minor": 5
}
